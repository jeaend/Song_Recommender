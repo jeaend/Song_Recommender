{
 "cells": [
  {
   "cell_type": "markdown",
   "metadata": {},
   "source": [
    "### Objective\n",
    "\n",
    "Using spotipy API to retrieve songs from various playlists.  \n",
    "**Second step is retrieving playlists and their id's for each category previously retrieved.**\n",
    "\n",
    "In order to not send too many API request of same nature, I am saving the intermediate result. \n",
    "\n",
    "*Output: 3_Playlist_Ids.csv*, columns 'category_id', 'category_name', 'playlist_id', 'playlist_name'"
   ]
  },
  {
   "cell_type": "code",
   "execution_count": 1,
   "metadata": {},
   "outputs": [],
   "source": [
    "import pandas as pd\n",
    "from spotipy_util import retrieve_sp"
   ]
  },
  {
   "cell_type": "markdown",
   "metadata": {},
   "source": [
    "> retrieve categories"
   ]
  },
  {
   "cell_type": "code",
   "execution_count": 3,
   "metadata": {},
   "outputs": [
    {
     "data": {
      "text/html": [
       "<div>\n",
       "<style scoped>\n",
       "    .dataframe tbody tr th:only-of-type {\n",
       "        vertical-align: middle;\n",
       "    }\n",
       "\n",
       "    .dataframe tbody tr th {\n",
       "        vertical-align: top;\n",
       "    }\n",
       "\n",
       "    .dataframe thead th {\n",
       "        text-align: right;\n",
       "    }\n",
       "</style>\n",
       "<table border=\"1\" class=\"dataframe\">\n",
       "  <thead>\n",
       "    <tr style=\"text-align: right;\">\n",
       "      <th></th>\n",
       "      <th>category_id</th>\n",
       "      <th>category_name</th>\n",
       "    </tr>\n",
       "  </thead>\n",
       "  <tbody>\n",
       "    <tr>\n",
       "      <th>0</th>\n",
       "      <td>0JQ5DAt0tbjZptfcdMSKl3</td>\n",
       "      <td>Made For You</td>\n",
       "    </tr>\n",
       "  </tbody>\n",
       "</table>\n",
       "</div>"
      ],
      "text/plain": [
       "              category_id category_name\n",
       "0  0JQ5DAt0tbjZptfcdMSKl3  Made For You"
      ]
     },
     "metadata": {},
     "output_type": "display_data"
    },
    {
     "data": {
      "text/plain": [
       "(55, 2)"
      ]
     },
     "metadata": {},
     "output_type": "display_data"
    }
   ],
   "source": [
    "categories = pd.read_csv('./cache/2_Category_Ids.csv')\n",
    "display(categories.head(1))\n",
    "display(categories.shape)"
   ]
  },
  {
   "cell_type": "markdown",
   "metadata": {},
   "source": [
    "> connect to api"
   ]
  },
  {
   "cell_type": "code",
   "execution_count": 4,
   "metadata": {},
   "outputs": [],
   "source": [
    "sp = retrieve_sp()"
   ]
  },
  {
   "cell_type": "markdown",
   "metadata": {},
   "source": [
    "> there is a total off 55 categories  \n",
    "> retrieve up to 5 playlists per category"
   ]
  },
  {
   "cell_type": "code",
   "execution_count": 12,
   "metadata": {},
   "outputs": [],
   "source": [
    "all_playlist_data = []\n",
    "\n",
    "# Iterate over each category\n",
    "for idx, row in categories.iterrows():\n",
    "    category_id = row['category_id']\n",
    "    category_name = row['category_name']\n",
    "    \n",
    "    # Get playlists for the current category\n",
    "    playlists = sp.category_playlists(category_id, country=None, limit=5, offset=0)\n",
    "    \n",
    "    # Iterate over each playlist and append its data to the list\n",
    "    for playlist in playlists['playlists']['items']:\n",
    "        playlist_id = playlist['id']\n",
    "        playlist_name = playlist['name']\n",
    "        all_playlist_data.append({'category_id': category_id, 'category_name': category_name, 'playlist_id': playlist_id, 'playlist_name': playlist_name}) \n"
   ]
  },
  {
   "cell_type": "code",
   "execution_count": 14,
   "metadata": {},
   "outputs": [],
   "source": [
    "# sanity check \n",
    "# len(all_playlist_data)\n",
    "# all_playlist_data"
   ]
  },
  {
   "cell_type": "code",
   "execution_count": 15,
   "metadata": {},
   "outputs": [
    {
     "data": {
      "text/html": [
       "<div>\n",
       "<style scoped>\n",
       "    .dataframe tbody tr th:only-of-type {\n",
       "        vertical-align: middle;\n",
       "    }\n",
       "\n",
       "    .dataframe tbody tr th {\n",
       "        vertical-align: top;\n",
       "    }\n",
       "\n",
       "    .dataframe thead th {\n",
       "        text-align: right;\n",
       "    }\n",
       "</style>\n",
       "<table border=\"1\" class=\"dataframe\">\n",
       "  <thead>\n",
       "    <tr style=\"text-align: right;\">\n",
       "      <th></th>\n",
       "      <th>category_id</th>\n",
       "      <th>category_name</th>\n",
       "      <th>playlist_id</th>\n",
       "      <th>playlist_name</th>\n",
       "    </tr>\n",
       "  </thead>\n",
       "  <tbody>\n",
       "    <tr>\n",
       "      <th>0</th>\n",
       "      <td>0JQ5DAt0tbjZptfcdMSKl3</td>\n",
       "      <td>Made For You</td>\n",
       "      <td>37i9dQZF1EnOBYmteT8p3O</td>\n",
       "      <td>Daily Podcasts</td>\n",
       "    </tr>\n",
       "    <tr>\n",
       "      <th>1</th>\n",
       "      <td>0JQ5DAqbMKFz6FAsUtgAab</td>\n",
       "      <td>New Releases</td>\n",
       "      <td>37i9dQZF1DWUW2bvSkjcJ6</td>\n",
       "      <td>New Music Friday Deutschland</td>\n",
       "    </tr>\n",
       "    <tr>\n",
       "      <th>2</th>\n",
       "      <td>0JQ5DAqbMKFQ00XGBls6ym</td>\n",
       "      <td>Hip-Hop</td>\n",
       "      <td>37i9dQZF1DX36edUJpD76c</td>\n",
       "      <td>Modus Mio</td>\n",
       "    </tr>\n",
       "    <tr>\n",
       "      <th>3</th>\n",
       "      <td>0JQ5DAqbMKFQ00XGBls6ym</td>\n",
       "      <td>Hip-Hop</td>\n",
       "      <td>37i9dQZF1DWSTqUqJcxFk6</td>\n",
       "      <td>Deutschrap Brandneu</td>\n",
       "    </tr>\n",
       "    <tr>\n",
       "      <th>4</th>\n",
       "      <td>0JQ5DAqbMKFQ00XGBls6ym</td>\n",
       "      <td>Hip-Hop</td>\n",
       "      <td>37i9dQZF1DX2lUf1uE6Mre</td>\n",
       "      <td>Shisha Club</td>\n",
       "    </tr>\n",
       "    <tr>\n",
       "      <th>...</th>\n",
       "      <td>...</td>\n",
       "      <td>...</td>\n",
       "      <td>...</td>\n",
       "      <td>...</td>\n",
       "    </tr>\n",
       "    <tr>\n",
       "      <th>257</th>\n",
       "      <td>0JQ5DAqbMKFRKBHIxJ5hMm</td>\n",
       "      <td>Tastemakers</td>\n",
       "      <td>6BUuN31LYCZ3Oh1hV8Q4c9</td>\n",
       "      <td>Best of Deutschrap</td>\n",
       "    </tr>\n",
       "    <tr>\n",
       "      <th>258</th>\n",
       "      <td>0JQ5DAqbMKFRKBHIxJ5hMm</td>\n",
       "      <td>Tastemakers</td>\n",
       "      <td>4173ENNA5eMzHrz9pipvxI</td>\n",
       "      <td>Spinnin' Records Brand New</td>\n",
       "    </tr>\n",
       "    <tr>\n",
       "      <th>259</th>\n",
       "      <td>0JQ5DAqbMKFRKBHIxJ5hMm</td>\n",
       "      <td>Tastemakers</td>\n",
       "      <td>5l1CVCtWhlpdhLSqFbkBUl</td>\n",
       "      <td>DANCE Universal</td>\n",
       "    </tr>\n",
       "    <tr>\n",
       "      <th>260</th>\n",
       "      <td>0JQ5DAqbMKFRKBHIxJ5hMm</td>\n",
       "      <td>Tastemakers</td>\n",
       "      <td>1ascxaGsxhgbIQRhE1Usa8</td>\n",
       "      <td>Four Music</td>\n",
       "    </tr>\n",
       "    <tr>\n",
       "      <th>261</th>\n",
       "      <td>0JQ5DAqbMKFRKBHIxJ5hMm</td>\n",
       "      <td>Tastemakers</td>\n",
       "      <td>6aw9wiedFzzhJiI96DhNhw</td>\n",
       "      <td>New Releases</td>\n",
       "    </tr>\n",
       "  </tbody>\n",
       "</table>\n",
       "<p>262 rows × 4 columns</p>\n",
       "</div>"
      ],
      "text/plain": [
       "                category_id category_name             playlist_id  \\\n",
       "0    0JQ5DAt0tbjZptfcdMSKl3  Made For You  37i9dQZF1EnOBYmteT8p3O   \n",
       "1    0JQ5DAqbMKFz6FAsUtgAab  New Releases  37i9dQZF1DWUW2bvSkjcJ6   \n",
       "2    0JQ5DAqbMKFQ00XGBls6ym       Hip-Hop  37i9dQZF1DX36edUJpD76c   \n",
       "3    0JQ5DAqbMKFQ00XGBls6ym       Hip-Hop  37i9dQZF1DWSTqUqJcxFk6   \n",
       "4    0JQ5DAqbMKFQ00XGBls6ym       Hip-Hop  37i9dQZF1DX2lUf1uE6Mre   \n",
       "..                      ...           ...                     ...   \n",
       "257  0JQ5DAqbMKFRKBHIxJ5hMm   Tastemakers  6BUuN31LYCZ3Oh1hV8Q4c9   \n",
       "258  0JQ5DAqbMKFRKBHIxJ5hMm   Tastemakers  4173ENNA5eMzHrz9pipvxI   \n",
       "259  0JQ5DAqbMKFRKBHIxJ5hMm   Tastemakers  5l1CVCtWhlpdhLSqFbkBUl   \n",
       "260  0JQ5DAqbMKFRKBHIxJ5hMm   Tastemakers  1ascxaGsxhgbIQRhE1Usa8   \n",
       "261  0JQ5DAqbMKFRKBHIxJ5hMm   Tastemakers  6aw9wiedFzzhJiI96DhNhw   \n",
       "\n",
       "                    playlist_name  \n",
       "0                  Daily Podcasts  \n",
       "1    New Music Friday Deutschland  \n",
       "2                       Modus Mio  \n",
       "3             Deutschrap Brandneu  \n",
       "4                     Shisha Club  \n",
       "..                            ...  \n",
       "257           Best of Deutschrap   \n",
       "258    Spinnin' Records Brand New  \n",
       "259               DANCE Universal  \n",
       "260                   Four Music   \n",
       "261                  New Releases  \n",
       "\n",
       "[262 rows x 4 columns]"
      ]
     },
     "execution_count": 15,
     "metadata": {},
     "output_type": "execute_result"
    }
   ],
   "source": [
    "# Convert the list of playlist IDs to a DataFrame\n",
    "playlist_df = pd.DataFrame(all_playlist_data)\n",
    "\n",
    "playlist_df"
   ]
  },
  {
   "cell_type": "code",
   "execution_count": 18,
   "metadata": {},
   "outputs": [],
   "source": [
    "# remove daily podcasts \n",
    "playlist_df.drop(index=0, inplace=True)"
   ]
  },
  {
   "cell_type": "code",
   "execution_count": 19,
   "metadata": {},
   "outputs": [
    {
     "data": {
      "text/html": [
       "<div>\n",
       "<style scoped>\n",
       "    .dataframe tbody tr th:only-of-type {\n",
       "        vertical-align: middle;\n",
       "    }\n",
       "\n",
       "    .dataframe tbody tr th {\n",
       "        vertical-align: top;\n",
       "    }\n",
       "\n",
       "    .dataframe thead th {\n",
       "        text-align: right;\n",
       "    }\n",
       "</style>\n",
       "<table border=\"1\" class=\"dataframe\">\n",
       "  <thead>\n",
       "    <tr style=\"text-align: right;\">\n",
       "      <th></th>\n",
       "      <th>category_id</th>\n",
       "      <th>category_name</th>\n",
       "      <th>playlist_id</th>\n",
       "      <th>playlist_name</th>\n",
       "    </tr>\n",
       "  </thead>\n",
       "  <tbody>\n",
       "    <tr>\n",
       "      <th>1</th>\n",
       "      <td>0JQ5DAqbMKFz6FAsUtgAab</td>\n",
       "      <td>New Releases</td>\n",
       "      <td>37i9dQZF1DWUW2bvSkjcJ6</td>\n",
       "      <td>New Music Friday Deutschland</td>\n",
       "    </tr>\n",
       "    <tr>\n",
       "      <th>2</th>\n",
       "      <td>0JQ5DAqbMKFQ00XGBls6ym</td>\n",
       "      <td>Hip-Hop</td>\n",
       "      <td>37i9dQZF1DX36edUJpD76c</td>\n",
       "      <td>Modus Mio</td>\n",
       "    </tr>\n",
       "    <tr>\n",
       "      <th>3</th>\n",
       "      <td>0JQ5DAqbMKFQ00XGBls6ym</td>\n",
       "      <td>Hip-Hop</td>\n",
       "      <td>37i9dQZF1DWSTqUqJcxFk6</td>\n",
       "      <td>Deutschrap Brandneu</td>\n",
       "    </tr>\n",
       "    <tr>\n",
       "      <th>4</th>\n",
       "      <td>0JQ5DAqbMKFQ00XGBls6ym</td>\n",
       "      <td>Hip-Hop</td>\n",
       "      <td>37i9dQZF1DX2lUf1uE6Mre</td>\n",
       "      <td>Shisha Club</td>\n",
       "    </tr>\n",
       "    <tr>\n",
       "      <th>5</th>\n",
       "      <td>0JQ5DAqbMKFQ00XGBls6ym</td>\n",
       "      <td>Hip-Hop</td>\n",
       "      <td>37i9dQZF1DX1zpUaiwr15A</td>\n",
       "      <td>Deutschrap Untergrund</td>\n",
       "    </tr>\n",
       "    <tr>\n",
       "      <th>...</th>\n",
       "      <td>...</td>\n",
       "      <td>...</td>\n",
       "      <td>...</td>\n",
       "      <td>...</td>\n",
       "    </tr>\n",
       "    <tr>\n",
       "      <th>257</th>\n",
       "      <td>0JQ5DAqbMKFRKBHIxJ5hMm</td>\n",
       "      <td>Tastemakers</td>\n",
       "      <td>6BUuN31LYCZ3Oh1hV8Q4c9</td>\n",
       "      <td>Best of Deutschrap</td>\n",
       "    </tr>\n",
       "    <tr>\n",
       "      <th>258</th>\n",
       "      <td>0JQ5DAqbMKFRKBHIxJ5hMm</td>\n",
       "      <td>Tastemakers</td>\n",
       "      <td>4173ENNA5eMzHrz9pipvxI</td>\n",
       "      <td>Spinnin' Records Brand New</td>\n",
       "    </tr>\n",
       "    <tr>\n",
       "      <th>259</th>\n",
       "      <td>0JQ5DAqbMKFRKBHIxJ5hMm</td>\n",
       "      <td>Tastemakers</td>\n",
       "      <td>5l1CVCtWhlpdhLSqFbkBUl</td>\n",
       "      <td>DANCE Universal</td>\n",
       "    </tr>\n",
       "    <tr>\n",
       "      <th>260</th>\n",
       "      <td>0JQ5DAqbMKFRKBHIxJ5hMm</td>\n",
       "      <td>Tastemakers</td>\n",
       "      <td>1ascxaGsxhgbIQRhE1Usa8</td>\n",
       "      <td>Four Music</td>\n",
       "    </tr>\n",
       "    <tr>\n",
       "      <th>261</th>\n",
       "      <td>0JQ5DAqbMKFRKBHIxJ5hMm</td>\n",
       "      <td>Tastemakers</td>\n",
       "      <td>6aw9wiedFzzhJiI96DhNhw</td>\n",
       "      <td>New Releases</td>\n",
       "    </tr>\n",
       "  </tbody>\n",
       "</table>\n",
       "<p>261 rows × 4 columns</p>\n",
       "</div>"
      ],
      "text/plain": [
       "                category_id category_name             playlist_id  \\\n",
       "1    0JQ5DAqbMKFz6FAsUtgAab  New Releases  37i9dQZF1DWUW2bvSkjcJ6   \n",
       "2    0JQ5DAqbMKFQ00XGBls6ym       Hip-Hop  37i9dQZF1DX36edUJpD76c   \n",
       "3    0JQ5DAqbMKFQ00XGBls6ym       Hip-Hop  37i9dQZF1DWSTqUqJcxFk6   \n",
       "4    0JQ5DAqbMKFQ00XGBls6ym       Hip-Hop  37i9dQZF1DX2lUf1uE6Mre   \n",
       "5    0JQ5DAqbMKFQ00XGBls6ym       Hip-Hop  37i9dQZF1DX1zpUaiwr15A   \n",
       "..                      ...           ...                     ...   \n",
       "257  0JQ5DAqbMKFRKBHIxJ5hMm   Tastemakers  6BUuN31LYCZ3Oh1hV8Q4c9   \n",
       "258  0JQ5DAqbMKFRKBHIxJ5hMm   Tastemakers  4173ENNA5eMzHrz9pipvxI   \n",
       "259  0JQ5DAqbMKFRKBHIxJ5hMm   Tastemakers  5l1CVCtWhlpdhLSqFbkBUl   \n",
       "260  0JQ5DAqbMKFRKBHIxJ5hMm   Tastemakers  1ascxaGsxhgbIQRhE1Usa8   \n",
       "261  0JQ5DAqbMKFRKBHIxJ5hMm   Tastemakers  6aw9wiedFzzhJiI96DhNhw   \n",
       "\n",
       "                    playlist_name  \n",
       "1    New Music Friday Deutschland  \n",
       "2                       Modus Mio  \n",
       "3             Deutschrap Brandneu  \n",
       "4                     Shisha Club  \n",
       "5           Deutschrap Untergrund  \n",
       "..                            ...  \n",
       "257           Best of Deutschrap   \n",
       "258    Spinnin' Records Brand New  \n",
       "259               DANCE Universal  \n",
       "260                   Four Music   \n",
       "261                  New Releases  \n",
       "\n",
       "[261 rows x 4 columns]"
      ]
     },
     "execution_count": 19,
     "metadata": {},
     "output_type": "execute_result"
    }
   ],
   "source": [
    "playlist_df"
   ]
  },
  {
   "cell_type": "markdown",
   "metadata": {},
   "source": [
    "> save to csv, convert the list of tuples to a DataFrame"
   ]
  },
  {
   "cell_type": "code",
   "execution_count": 20,
   "metadata": {},
   "outputs": [],
   "source": [
    "playlist_df.to_csv('./cache/3_Playlist_Ids.csv', index=False)"
   ]
  }
 ],
 "metadata": {
  "kernelspec": {
   "display_name": "base",
   "language": "python",
   "name": "python3"
  },
  "language_info": {
   "codemirror_mode": {
    "name": "ipython",
    "version": 3
   },
   "file_extension": ".py",
   "mimetype": "text/x-python",
   "name": "python",
   "nbconvert_exporter": "python",
   "pygments_lexer": "ipython3",
   "version": "3.11.7"
  }
 },
 "nbformat": 4,
 "nbformat_minor": 2
}
