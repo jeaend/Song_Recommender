{
 "cells": [
  {
   "cell_type": "markdown",
   "metadata": {},
   "source": [
    "### Objective\n",
    "\n",
    "Using spotipy API to retrieve songs from various playlists.  \n",
    "**Third step is retrieving the song id's from the playlists.**\n",
    "\n",
    "In order to not send too many API request of same nature, I am saving the intermediate result. \n",
    "\n",
    "*Output: 3_Song_Ids.csv*, columns 'category_id', 'category_name', 'playlist_id', 'playlist_name', 'song_id', 'song_artist', song_title"
   ]
  },
  {
   "cell_type": "code",
   "execution_count": null,
   "metadata": {},
   "outputs": [],
   "source": [
    "import pandas as pd\n",
    "from spotipy_util import retrieve_sp"
   ]
  },
  {
   "cell_type": "markdown",
   "metadata": {},
   "source": [
    "> retrieve categories"
   ]
  },
  {
   "cell_type": "code",
   "execution_count": null,
   "metadata": {},
   "outputs": [],
   "source": [
    "playlist_df = pd.read_csv('./cache/3_Playlist_Ids.csv')\n",
    "display(playlist_df.head(1))\n",
    "display(playlist_df.shape)"
   ]
  },
  {
   "cell_type": "markdown",
   "metadata": {},
   "source": [
    "> connect to api"
   ]
  },
  {
   "cell_type": "code",
   "execution_count": null,
   "metadata": {},
   "outputs": [],
   "source": [
    "sp = retrieve_sp()"
   ]
  },
  {
   "cell_type": "markdown",
   "metadata": {},
   "source": [
    "> retrieve all song id's, artists, titles from each playlist"
   ]
  },
  {
   "cell_type": "code",
   "execution_count": 21,
   "metadata": {},
   "outputs": [
    {
     "data": {
      "text/html": [
       "<div>\n",
       "<style scoped>\n",
       "    .dataframe tbody tr th:only-of-type {\n",
       "        vertical-align: middle;\n",
       "    }\n",
       "\n",
       "    .dataframe tbody tr th {\n",
       "        vertical-align: top;\n",
       "    }\n",
       "\n",
       "    .dataframe thead th {\n",
       "        text-align: right;\n",
       "    }\n",
       "</style>\n",
       "<table border=\"1\" class=\"dataframe\">\n",
       "  <thead>\n",
       "    <tr style=\"text-align: right;\">\n",
       "      <th></th>\n",
       "      <th>category_id</th>\n",
       "      <th>category_name</th>\n",
       "      <th>playlist_id</th>\n",
       "      <th>playlist_name</th>\n",
       "    </tr>\n",
       "  </thead>\n",
       "  <tbody>\n",
       "    <tr>\n",
       "      <th>0</th>\n",
       "      <td>0JQ5DAqbMKFz6FAsUtgAab</td>\n",
       "      <td>New Releases</td>\n",
       "      <td>37i9dQZF1DWUW2bvSkjcJ6</td>\n",
       "      <td>New Music Friday Deutschland</td>\n",
       "    </tr>\n",
       "    <tr>\n",
       "      <th>1</th>\n",
       "      <td>0JQ5DAqbMKFQ00XGBls6ym</td>\n",
       "      <td>Hip-Hop</td>\n",
       "      <td>37i9dQZF1DX36edUJpD76c</td>\n",
       "      <td>Modus Mio</td>\n",
       "    </tr>\n",
       "  </tbody>\n",
       "</table>\n",
       "</div>"
      ],
      "text/plain": [
       "              category_id category_name             playlist_id  \\\n",
       "0  0JQ5DAqbMKFz6FAsUtgAab  New Releases  37i9dQZF1DWUW2bvSkjcJ6   \n",
       "1  0JQ5DAqbMKFQ00XGBls6ym       Hip-Hop  37i9dQZF1DX36edUJpD76c   \n",
       "\n",
       "                  playlist_name  \n",
       "0  New Music Friday Deutschland  \n",
       "1                     Modus Mio  "
      ]
     },
     "execution_count": 21,
     "metadata": {},
     "output_type": "execute_result"
    }
   ],
   "source": [
    "playlist_df = playlist_df.head(2)\n",
    "playlist_df"
   ]
  },
  {
   "cell_type": "code",
   "execution_count": 22,
   "metadata": {},
   "outputs": [],
   "source": [
    "all_songs = []\n",
    "\n",
    "# Iterate over each playlist\n",
    "for idx, row in playlist_df.iterrows():\n",
    "    playlist_id = row['playlist_id']\n",
    "    category_id = row['category_id']\n",
    "    category_name = row['category_name']\n",
    "    \n",
    "    # Get playlist details\n",
    "    playlist = sp.playlist(playlist_id)\n",
    "    playlist_name = playlist['name']\n",
    "    \n",
    "    # Get tracks for the current playlist\n",
    "    tracks = sp.playlist_tracks(playlist_id, fields='items.track.id,items.track.artists,items.track.name,total')\n",
    "    \n",
    "    # Check if tracks is not None and 'items' in tracks\n",
    "    if tracks is not None and 'items' in tracks:\n",
    "        # Iterate over each track and append its data to the list\n",
    "        for item in tracks['items']:\n",
    "            # Check if 'track' key exists in the item and it's not None\n",
    "            if 'track' in item and item['track'] is not None:\n",
    "                # Check if 'id' key exists in the track\n",
    "                if 'id' in item['track']:\n",
    "                    song_id = item['track']['id']\n",
    "                    song_title = item['track']['name']\n",
    "                    song_artist = ', '.join([artist['name'] for artist in item['track']['artists']])\n",
    "                    all_songs.append({'category_id': category_id, 'category_name': category_name, 'playlist_id': playlist_id, 'playlist_name': playlist_name, 'song_id': song_id, 'song_artist': song_artist, 'song_title': song_title})\n"
   ]
  },
  {
   "cell_type": "code",
   "execution_count": 24,
   "metadata": {},
   "outputs": [
    {
     "data": {
      "text/html": [
       "<div>\n",
       "<style scoped>\n",
       "    .dataframe tbody tr th:only-of-type {\n",
       "        vertical-align: middle;\n",
       "    }\n",
       "\n",
       "    .dataframe tbody tr th {\n",
       "        vertical-align: top;\n",
       "    }\n",
       "\n",
       "    .dataframe thead th {\n",
       "        text-align: right;\n",
       "    }\n",
       "</style>\n",
       "<table border=\"1\" class=\"dataframe\">\n",
       "  <thead>\n",
       "    <tr style=\"text-align: right;\">\n",
       "      <th></th>\n",
       "      <th>category_name</th>\n",
       "      <th>playlist_id</th>\n",
       "      <th>track_id</th>\n",
       "      <th>track_name</th>\n",
       "      <th>track_artists</th>\n",
       "    </tr>\n",
       "  </thead>\n",
       "  <tbody>\n",
       "    <tr>\n",
       "      <th>0</th>\n",
       "      <td>New Releases</td>\n",
       "      <td>37i9dQZF1DWUW2bvSkjcJ6</td>\n",
       "      <td>7221xIgOnuakPdLqT0F3nP</td>\n",
       "      <td>I Had Some Help (Feat. Morgan Wallen)</td>\n",
       "      <td>Post Malone, Morgan Wallen</td>\n",
       "    </tr>\n",
       "    <tr>\n",
       "      <th>1</th>\n",
       "      <td>New Releases</td>\n",
       "      <td>37i9dQZF1DWUW2bvSkjcJ6</td>\n",
       "      <td>4uDyEmWYoyfi2azbGS4IVs</td>\n",
       "      <td>nimm mit</td>\n",
       "      <td>Paula Hartmann, makko</td>\n",
       "    </tr>\n",
       "    <tr>\n",
       "      <th>2</th>\n",
       "      <td>New Releases</td>\n",
       "      <td>37i9dQZF1DWUW2bvSkjcJ6</td>\n",
       "      <td>1TFK9oczePSWgNtWRWlUoI</td>\n",
       "      <td>Balla Balla</td>\n",
       "      <td>Ski Aggu, Marlon Hoffstadt</td>\n",
       "    </tr>\n",
       "    <tr>\n",
       "      <th>3</th>\n",
       "      <td>New Releases</td>\n",
       "      <td>37i9dQZF1DWUW2bvSkjcJ6</td>\n",
       "      <td>7MYLHLCf0YWR4TVs3owDny</td>\n",
       "      <td>Fire - Official UEFA EURO 2024 Song</td>\n",
       "      <td>MEDUZA, OneRepublic, Leony</td>\n",
       "    </tr>\n",
       "    <tr>\n",
       "      <th>4</th>\n",
       "      <td>New Releases</td>\n",
       "      <td>37i9dQZF1DWUW2bvSkjcJ6</td>\n",
       "      <td>6df3If2RzcZ0CP79sVEuSe</td>\n",
       "      <td>Cabrio</td>\n",
       "      <td>Olexesh, Bonez MC</td>\n",
       "    </tr>\n",
       "    <tr>\n",
       "      <th>...</th>\n",
       "      <td>...</td>\n",
       "      <td>...</td>\n",
       "      <td>...</td>\n",
       "      <td>...</td>\n",
       "      <td>...</td>\n",
       "    </tr>\n",
       "    <tr>\n",
       "      <th>128</th>\n",
       "      <td>Hip-Hop</td>\n",
       "      <td>37i9dQZF1DX36edUJpD76c</td>\n",
       "      <td>7AGtu4Lg1qMeky9XCkWu9h</td>\n",
       "      <td>Geständnis</td>\n",
       "      <td>Samra</td>\n",
       "    </tr>\n",
       "    <tr>\n",
       "      <th>129</th>\n",
       "      <td>Hip-Hop</td>\n",
       "      <td>37i9dQZF1DX36edUJpD76c</td>\n",
       "      <td>2IljGIvJWtgjvG4h8WUh8E</td>\n",
       "      <td>SMS</td>\n",
       "      <td>Teven</td>\n",
       "    </tr>\n",
       "    <tr>\n",
       "      <th>130</th>\n",
       "      <td>Hip-Hop</td>\n",
       "      <td>37i9dQZF1DX36edUJpD76c</td>\n",
       "      <td>1kQKmatH0qVvnT05kJ0o4d</td>\n",
       "      <td>Uludağ und Sorgen</td>\n",
       "      <td>Paula Hartmann, Symba</td>\n",
       "    </tr>\n",
       "    <tr>\n",
       "      <th>131</th>\n",
       "      <td>Hip-Hop</td>\n",
       "      <td>37i9dQZF1DX36edUJpD76c</td>\n",
       "      <td>7G6CXD57a8mIUFoOrmMhU7</td>\n",
       "      <td>Ella</td>\n",
       "      <td>Monet192</td>\n",
       "    </tr>\n",
       "    <tr>\n",
       "      <th>132</th>\n",
       "      <td>Hip-Hop</td>\n",
       "      <td>37i9dQZF1DX36edUJpD76c</td>\n",
       "      <td>2e3bkN2QCScPUnUQiA9ZA4</td>\n",
       "      <td>Affalterbach</td>\n",
       "      <td>Shindy, Shirin David</td>\n",
       "    </tr>\n",
       "  </tbody>\n",
       "</table>\n",
       "<p>133 rows × 5 columns</p>\n",
       "</div>"
      ],
      "text/plain": [
       "    category_name             playlist_id                track_id  \\\n",
       "0    New Releases  37i9dQZF1DWUW2bvSkjcJ6  7221xIgOnuakPdLqT0F3nP   \n",
       "1    New Releases  37i9dQZF1DWUW2bvSkjcJ6  4uDyEmWYoyfi2azbGS4IVs   \n",
       "2    New Releases  37i9dQZF1DWUW2bvSkjcJ6  1TFK9oczePSWgNtWRWlUoI   \n",
       "3    New Releases  37i9dQZF1DWUW2bvSkjcJ6  7MYLHLCf0YWR4TVs3owDny   \n",
       "4    New Releases  37i9dQZF1DWUW2bvSkjcJ6  6df3If2RzcZ0CP79sVEuSe   \n",
       "..            ...                     ...                     ...   \n",
       "128       Hip-Hop  37i9dQZF1DX36edUJpD76c  7AGtu4Lg1qMeky9XCkWu9h   \n",
       "129       Hip-Hop  37i9dQZF1DX36edUJpD76c  2IljGIvJWtgjvG4h8WUh8E   \n",
       "130       Hip-Hop  37i9dQZF1DX36edUJpD76c  1kQKmatH0qVvnT05kJ0o4d   \n",
       "131       Hip-Hop  37i9dQZF1DX36edUJpD76c  7G6CXD57a8mIUFoOrmMhU7   \n",
       "132       Hip-Hop  37i9dQZF1DX36edUJpD76c  2e3bkN2QCScPUnUQiA9ZA4   \n",
       "\n",
       "                                track_name               track_artists  \n",
       "0    I Had Some Help (Feat. Morgan Wallen)  Post Malone, Morgan Wallen  \n",
       "1                                 nimm mit       Paula Hartmann, makko  \n",
       "2                              Balla Balla  Ski Aggu, Marlon Hoffstadt  \n",
       "3      Fire - Official UEFA EURO 2024 Song  MEDUZA, OneRepublic, Leony  \n",
       "4                                   Cabrio           Olexesh, Bonez MC  \n",
       "..                                     ...                         ...  \n",
       "128                             Geständnis                       Samra  \n",
       "129                                    SMS                       Teven  \n",
       "130                      Uludağ und Sorgen       Paula Hartmann, Symba  \n",
       "131                                   Ella                    Monet192  \n",
       "132                           Affalterbach        Shindy, Shirin David  \n",
       "\n",
       "[133 rows x 5 columns]"
      ]
     },
     "execution_count": 24,
     "metadata": {},
     "output_type": "execute_result"
    }
   ],
   "source": [
    "songs_df = pd.DataFrame(all_songs)\n",
    "songs_df"
   ]
  },
  {
   "cell_type": "code",
   "execution_count": null,
   "metadata": {},
   "outputs": [],
   "source": [
    "playlist_id = playlist_df['playlist_id'][1]\n",
    "playlist_id\n",
    "    "
   ]
  },
  {
   "cell_type": "markdown",
   "metadata": {},
   "source": [
    "> there is a total off 55 categories  \n",
    "> retrieve up to 5 playlists per category"
   ]
  },
  {
   "cell_type": "code",
   "execution_count": null,
   "metadata": {},
   "outputs": [],
   "source": []
  }
 ],
 "metadata": {
  "kernelspec": {
   "display_name": "base",
   "language": "python",
   "name": "python3"
  },
  "language_info": {
   "codemirror_mode": {
    "name": "ipython",
    "version": 3
   },
   "file_extension": ".py",
   "mimetype": "text/x-python",
   "name": "python",
   "nbconvert_exporter": "python",
   "pygments_lexer": "ipython3",
   "version": "3.11.7"
  }
 },
 "nbformat": 4,
 "nbformat_minor": 2
}
