{
 "cells": [
  {
   "cell_type": "markdown",
   "metadata": {},
   "source": [
    "### Objective\n",
    "\n",
    "**Create a recommender that gives a song recommendation based on a user given input.**"
   ]
  },
  {
   "cell_type": "markdown",
   "metadata": {},
   "source": [
    "Model Logic:\n",
    "\n",
    "1. **Check if the Song is in the Hot 100 List:**\n",
    "   - If the song is in the Hot 100 list: *(1_Top_100.csv)*\n",
    "     - Respond with another song from the Hot 100.\n",
    "   - If the song is not in the Hot 100 list:\n",
    "     - Proceed to step 2.\n",
    "\n",
    "2. **Find Audio Features of the Song Using the Spotify API:**\n",
    "   - Utilize the Spotify API to obtain audio features (e.g., danceability, energy, tempo) of the song.\n",
    "\n",
    "3. **Apply Cluster Model to the Song:**\n",
    "   - Apply a pre-trained cluster model to the song's audio features. *(cluster_model.pkl - and scaler.pkl for scaling)*\n",
    "   - Determine the cluster to which the song belongs.\n",
    "\n",
    "4. **Recommend a Song from the Same Cluster:**\n",
    "   - Retrieve a song from the same cluster as the given song.\n",
    "   - This recommendation can be based on similarity in audio features or other criteria.\n"
   ]
  },
  {
   "cell_type": "code",
   "execution_count": 1,
   "metadata": {},
   "outputs": [],
   "source": [
    "import pickle\n",
    "import numpy as np\n",
    "import pandas as pd\n",
    "\n",
    "from sklearn.cluster import KMeans\n",
    "from recommender import song_recommender, is_hot_100, get_audio_features, determine_cluster, recommend_song_from_cluster"
   ]
  },
  {
   "cell_type": "markdown",
   "metadata": {},
   "source": [
    "> retrieve data"
   ]
  },
  {
   "cell_type": "code",
   "execution_count": 2,
   "metadata": {},
   "outputs": [
    {
     "data": {
      "text/html": [
       "<div>\n",
       "<style scoped>\n",
       "    .dataframe tbody tr th:only-of-type {\n",
       "        vertical-align: middle;\n",
       "    }\n",
       "\n",
       "    .dataframe tbody tr th {\n",
       "        vertical-align: top;\n",
       "    }\n",
       "\n",
       "    .dataframe thead th {\n",
       "        text-align: right;\n",
       "    }\n",
       "</style>\n",
       "<table border=\"1\" class=\"dataframe\">\n",
       "  <thead>\n",
       "    <tr style=\"text-align: right;\">\n",
       "      <th></th>\n",
       "      <th>artist</th>\n",
       "      <th>title</th>\n",
       "    </tr>\n",
       "  </thead>\n",
       "  <tbody>\n",
       "    <tr>\n",
       "      <th>0</th>\n",
       "      <td>Post Malone</td>\n",
       "      <td>I Had Some Help (feat. Morgan Wallen)</td>\n",
       "    </tr>\n",
       "    <tr>\n",
       "      <th>1</th>\n",
       "      <td>Shaboozey</td>\n",
       "      <td>A Bar Song (Tipsy)</td>\n",
       "    </tr>\n",
       "    <tr>\n",
       "      <th>2</th>\n",
       "      <td>RM</td>\n",
       "      <td>Come back to me</td>\n",
       "    </tr>\n",
       "    <tr>\n",
       "      <th>3</th>\n",
       "      <td>Kendrick Lamar</td>\n",
       "      <td>Not Like Us</td>\n",
       "    </tr>\n",
       "    <tr>\n",
       "      <th>4</th>\n",
       "      <td>Teddy Swims</td>\n",
       "      <td>Lose Control</td>\n",
       "    </tr>\n",
       "    <tr>\n",
       "      <th>...</th>\n",
       "      <td>...</td>\n",
       "      <td>...</td>\n",
       "    </tr>\n",
       "    <tr>\n",
       "      <th>95</th>\n",
       "      <td>Maisy Kay</td>\n",
       "      <td>Technicolor Honeymoon</td>\n",
       "    </tr>\n",
       "    <tr>\n",
       "      <th>96</th>\n",
       "      <td>GloRilla &amp; Megan Thee Stallion</td>\n",
       "      <td>Wanna Be</td>\n",
       "    </tr>\n",
       "    <tr>\n",
       "      <th>97</th>\n",
       "      <td>4batz</td>\n",
       "      <td>act iii: on god? (she like)</td>\n",
       "    </tr>\n",
       "    <tr>\n",
       "      <th>98</th>\n",
       "      <td>4batz</td>\n",
       "      <td>get out yo feelings ho</td>\n",
       "    </tr>\n",
       "    <tr>\n",
       "      <th>99</th>\n",
       "      <td>4batz</td>\n",
       "      <td>umademeast4r.mp3</td>\n",
       "    </tr>\n",
       "  </tbody>\n",
       "</table>\n",
       "<p>100 rows × 2 columns</p>\n",
       "</div>"
      ],
      "text/plain": [
       "                            artist                                  title\n",
       "0                      Post Malone  I Had Some Help (feat. Morgan Wallen)\n",
       "1                        Shaboozey                     A Bar Song (Tipsy)\n",
       "2                               RM                        Come back to me\n",
       "3                   Kendrick Lamar                            Not Like Us\n",
       "4                      Teddy Swims                           Lose Control\n",
       "..                             ...                                    ...\n",
       "95                       Maisy Kay                  Technicolor Honeymoon\n",
       "96  GloRilla & Megan Thee Stallion                               Wanna Be\n",
       "97                           4batz            act iii: on god? (she like)\n",
       "98                           4batz                 get out yo feelings ho\n",
       "99                           4batz                       umademeast4r.mp3\n",
       "\n",
       "[100 rows x 2 columns]"
      ]
     },
     "execution_count": 2,
     "metadata": {},
     "output_type": "execute_result"
    }
   ],
   "source": [
    "spotify = pd.read_csv('cache/6_clustered_df.csv')\n",
    "top_100 = pd.read_csv('cache/1_Top_100.csv')\n",
    "top_100"
   ]
  },
  {
   "cell_type": "markdown",
   "metadata": {},
   "source": [
    "> implement recommender"
   ]
  },
  {
   "cell_type": "code",
   "execution_count": 3,
   "metadata": {},
   "outputs": [
    {
     "name": "stdout",
     "output_type": "stream",
     "text": [
      "You might like: 'Forrest Frank' - 'GOOD DAY'\n",
      "(in top 100)\n"
     ]
    }
   ],
   "source": [
    "# in top 100, artist \n",
    "user_input = 'rm'\n",
    "if is_hot_100(user_input, top_100):\n",
    "    other_song = top_100[top_100['artist'].str.lower() != user_input].sample(n=1).iloc[0]\n",
    "    print(f\"You might like: '{other_song['artist']}' - '{other_song['title']}'\")\n",
    "    print('(in top 100)')\n",
    "else:\n",
    "    # get audio feature of the input song \n",
    "    audio_features = get_audio_features(user_input)\n",
    "    # Apply cluster model and recommend a song from the same cluster\n",
    "    cluster = determine_cluster(audio_features)\n",
    "    recommended_song = recommend_song_from_cluster(spotify, cluster)\n",
    "    print(f\"You might like: '{recommended_song['song_artist'].iloc[0]}' - '{recommended_song['song_title'].iloc[0]}'\")\n",
    "    print('(from Spotify)')"
   ]
  },
  {
   "cell_type": "code",
   "execution_count": 4,
   "metadata": {},
   "outputs": [
    {
     "name": "stdout",
     "output_type": "stream",
     "text": [
      "You might like: 'Hozier' - 'Too Sweet'\n",
      "(in top 100)\n"
     ]
    }
   ],
   "source": [
    "# in top 100, title\n",
    "user_input = 'Come back to me'\n",
    "if is_hot_100(user_input, top_100):\n",
    "    other_song = top_100[top_100['artist'].str.lower() != user_input].sample(n=1).iloc[0]\n",
    "    print(f\"You might like: '{other_song['artist']}' - '{other_song['title']}'\")\n",
    "    print('(in top 100)')\n",
    "else:\n",
    "    # get audio feature of the input song \n",
    "    audio_features = get_audio_features(user_input)\n",
    "    # Apply cluster model and recommend a song from the same cluster\n",
    "    cluster = determine_cluster(audio_features)\n",
    "    recommended_song = recommend_song_from_cluster(spotify, cluster)\n",
    "    print(f\"You might like: '{recommended_song['song_artist'].iloc[0]}' - '{recommended_song['song_title'].iloc[0]}'\")\n",
    "    print('(from Spotify)')"
   ]
  },
  {
   "cell_type": "code",
   "execution_count": 5,
   "metadata": {},
   "outputs": [
    {
     "name": "stdout",
     "output_type": "stream",
     "text": [
      "You might like: 'Jessie Ware' - 'Free Yourself'\n",
      "(from Spotify)\n"
     ]
    },
    {
     "name": "stderr",
     "output_type": "stream",
     "text": [
      "/opt/anaconda3/lib/python3.11/site-packages/sklearn/base.py:439: UserWarning: X does not have valid feature names, but KMeans was fitted with feature names\n",
      "  warnings.warn(\n"
     ]
    }
   ],
   "source": [
    "# not in top 100\n",
    "user_input = 'The Code'\n",
    "if is_hot_100(user_input, top_100):\n",
    "    other_song = top_100[top_100['artist'].str.lower() != user_input].sample(n=1).iloc[0]\n",
    "    print(f\"You might like: '{other_song['artist']}' - '{other_song['title']}'\")\n",
    "    print('(in top 100)')\n",
    "else:\n",
    "    # get audio feature of the input song \n",
    "    audio_features = get_audio_features(user_input)\n",
    "    # Apply cluster model and recommend a song from the same cluster\n",
    "    cluster = determine_cluster(audio_features)\n",
    "    recommended_song = recommend_song_from_cluster(spotify, cluster)\n",
    "    print(f\"You might like: '{recommended_song['song_artist'].iloc[0]}' - '{recommended_song['song_title'].iloc[0]}'\")\n",
    "    print('(from Spotify)') "
   ]
  },
  {
   "cell_type": "markdown",
   "metadata": {},
   "source": [
    "> live usage"
   ]
  },
  {
   "cell_type": "code",
   "execution_count": 6,
   "metadata": {},
   "outputs": [],
   "source": [
    "#song_recommender(top_100, spotify)"
   ]
  }
 ],
 "metadata": {
  "kernelspec": {
   "display_name": "base",
   "language": "python",
   "name": "python3"
  },
  "language_info": {
   "codemirror_mode": {
    "name": "ipython",
    "version": 3
   },
   "file_extension": ".py",
   "mimetype": "text/x-python",
   "name": "python",
   "nbconvert_exporter": "python",
   "pygments_lexer": "ipython3",
   "version": "3.11.7"
  }
 },
 "nbformat": 4,
 "nbformat_minor": 2
}
