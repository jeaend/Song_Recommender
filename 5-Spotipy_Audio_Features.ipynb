{
 "cells": [
  {
   "cell_type": "markdown",
   "metadata": {},
   "source": [
    "### Objective\n",
    "\n",
    "Using spotipy API to retrieve songs from various playlists.  \n",
    "**Fourth step is retrieving the songs audio features.**\n",
    "\n",
    "In order to not send too many API request of same nature, I am saving the intermediate result. \n",
    "\n",
    "*Output: 5_Song_Audio_Features.csv*, columns 'category_id', 'category_name', 'playlist_id', 'playlist_name', 'song_id', 'song_artist', song_title"
   ]
  },
  {
   "cell_type": "code",
   "execution_count": 6,
   "metadata": {},
   "outputs": [],
   "source": [
    "import pandas as pd\n",
    "from spotipy_util import retrieve_sp\n",
    "from time import sleep\n",
    "from random import randint\n",
    "from pandas import json_normalize"
   ]
  },
  {
   "cell_type": "markdown",
   "metadata": {},
   "source": [
    "> retrieve songs"
   ]
  },
  {
   "cell_type": "code",
   "execution_count": 31,
   "metadata": {},
   "outputs": [
    {
     "data": {
      "text/plain": [
       "Index(['category_id', 'category_name', 'playlist_id', 'playlist_name',\n",
       "       'song_id', 'song_artist', 'song_title'],\n",
       "      dtype='object')"
      ]
     },
     "execution_count": 31,
     "metadata": {},
     "output_type": "execute_result"
    }
   ],
   "source": [
    "audio_df = pd.read_csv('./cache/4_Song_Ids.csv')\n",
    "audio_df.columns"
   ]
  },
  {
   "cell_type": "markdown",
   "metadata": {},
   "source": [
    "> connect to api"
   ]
  },
  {
   "cell_type": "code",
   "execution_count": 3,
   "metadata": {},
   "outputs": [],
   "source": [
    "sp = retrieve_sp()"
   ]
  },
  {
   "cell_type": "code",
   "execution_count": 4,
   "metadata": {},
   "outputs": [
    {
     "data": {
      "text/plain": [
       "15629"
      ]
     },
     "execution_count": 4,
     "metadata": {},
     "output_type": "execute_result"
    }
   ],
   "source": [
    "chunks = [(i, i+100) for i in range(0, len(audio_df), 100)]\n",
    "audio_features_list = []\n",
    "for chunk in chunks:\n",
    "    id_list100 = audio_df['song_id'][chunk[0]:chunk[1]]\n",
    "    audio_features_list = audio_features_list + sp.audio_features(id_list100)\n",
    "    sleep(randint(1,3000)/1000)\n",
    "len(audio_features_list)"
   ]
  },
  {
   "cell_type": "code",
   "execution_count": 28,
   "metadata": {},
   "outputs": [
    {
     "data": {
      "text/plain": [
       "15629"
      ]
     },
     "execution_count": 28,
     "metadata": {},
     "output_type": "execute_result"
    }
   ],
   "source": [
    "len(audio_features_list)"
   ]
  },
  {
   "cell_type": "code",
   "execution_count": 39,
   "metadata": {},
   "outputs": [
    {
     "data": {
      "text/html": [
       "<div>\n",
       "<style scoped>\n",
       "    .dataframe tbody tr th:only-of-type {\n",
       "        vertical-align: middle;\n",
       "    }\n",
       "\n",
       "    .dataframe tbody tr th {\n",
       "        vertical-align: top;\n",
       "    }\n",
       "\n",
       "    .dataframe thead th {\n",
       "        text-align: right;\n",
       "    }\n",
       "</style>\n",
       "<table border=\"1\" class=\"dataframe\">\n",
       "  <thead>\n",
       "    <tr style=\"text-align: right;\">\n",
       "      <th></th>\n",
       "      <th>danceability</th>\n",
       "      <th>energy</th>\n",
       "      <th>key</th>\n",
       "      <th>loudness</th>\n",
       "      <th>mode</th>\n",
       "      <th>speechiness</th>\n",
       "      <th>acousticness</th>\n",
       "      <th>instrumentalness</th>\n",
       "      <th>liveness</th>\n",
       "      <th>valence</th>\n",
       "      <th>tempo</th>\n",
       "      <th>type</th>\n",
       "      <th>id</th>\n",
       "      <th>uri</th>\n",
       "      <th>track_href</th>\n",
       "      <th>analysis_url</th>\n",
       "      <th>duration_ms</th>\n",
       "      <th>time_signature</th>\n",
       "    </tr>\n",
       "  </thead>\n",
       "  <tbody>\n",
       "    <tr>\n",
       "      <th>15624</th>\n",
       "      <td>0.695</td>\n",
       "      <td>0.482</td>\n",
       "      <td>11.0</td>\n",
       "      <td>-13.238</td>\n",
       "      <td>0.0</td>\n",
       "      <td>0.0390</td>\n",
       "      <td>0.861</td>\n",
       "      <td>0.896000</td>\n",
       "      <td>0.1030</td>\n",
       "      <td>0.670</td>\n",
       "      <td>92.980</td>\n",
       "      <td>audio_features</td>\n",
       "      <td>2SbLBxUtlSzz8nIYFQstwq</td>\n",
       "      <td>spotify:track:2SbLBxUtlSzz8nIYFQstwq</td>\n",
       "      <td>https://api.spotify.com/v1/tracks/2SbLBxUtlSzz...</td>\n",
       "      <td>https://api.spotify.com/v1/audio-analysis/2SbL...</td>\n",
       "      <td>344320.0</td>\n",
       "      <td>4.0</td>\n",
       "    </tr>\n",
       "    <tr>\n",
       "      <th>15625</th>\n",
       "      <td>0.740</td>\n",
       "      <td>0.804</td>\n",
       "      <td>9.0</td>\n",
       "      <td>-7.450</td>\n",
       "      <td>1.0</td>\n",
       "      <td>0.0471</td>\n",
       "      <td>0.607</td>\n",
       "      <td>0.010300</td>\n",
       "      <td>0.0888</td>\n",
       "      <td>0.535</td>\n",
       "      <td>114.047</td>\n",
       "      <td>audio_features</td>\n",
       "      <td>6ExQLKsX71y57iO7iA8Ggd</td>\n",
       "      <td>spotify:track:6ExQLKsX71y57iO7iA8Ggd</td>\n",
       "      <td>https://api.spotify.com/v1/tracks/6ExQLKsX71y5...</td>\n",
       "      <td>https://api.spotify.com/v1/audio-analysis/6ExQ...</td>\n",
       "      <td>264893.0</td>\n",
       "      <td>4.0</td>\n",
       "    </tr>\n",
       "    <tr>\n",
       "      <th>15626</th>\n",
       "      <td>0.606</td>\n",
       "      <td>0.651</td>\n",
       "      <td>3.0</td>\n",
       "      <td>-5.202</td>\n",
       "      <td>0.0</td>\n",
       "      <td>0.0749</td>\n",
       "      <td>0.472</td>\n",
       "      <td>0.000019</td>\n",
       "      <td>0.1060</td>\n",
       "      <td>0.696</td>\n",
       "      <td>113.418</td>\n",
       "      <td>audio_features</td>\n",
       "      <td>7A1prltPZsLqZ1iTROIkhz</td>\n",
       "      <td>spotify:track:7A1prltPZsLqZ1iTROIkhz</td>\n",
       "      <td>https://api.spotify.com/v1/tracks/7A1prltPZsLq...</td>\n",
       "      <td>https://api.spotify.com/v1/audio-analysis/7A1p...</td>\n",
       "      <td>181200.0</td>\n",
       "      <td>4.0</td>\n",
       "    </tr>\n",
       "    <tr>\n",
       "      <th>15627</th>\n",
       "      <td>0.700</td>\n",
       "      <td>0.684</td>\n",
       "      <td>11.0</td>\n",
       "      <td>-10.688</td>\n",
       "      <td>0.0</td>\n",
       "      <td>0.0325</td>\n",
       "      <td>0.801</td>\n",
       "      <td>0.877000</td>\n",
       "      <td>0.0916</td>\n",
       "      <td>0.800</td>\n",
       "      <td>92.994</td>\n",
       "      <td>audio_features</td>\n",
       "      <td>0aiqrNJkcz1xDGUD8HLrRz</td>\n",
       "      <td>spotify:track:0aiqrNJkcz1xDGUD8HLrRz</td>\n",
       "      <td>https://api.spotify.com/v1/tracks/0aiqrNJkcz1x...</td>\n",
       "      <td>https://api.spotify.com/v1/audio-analysis/0aiq...</td>\n",
       "      <td>274133.0</td>\n",
       "      <td>4.0</td>\n",
       "    </tr>\n",
       "    <tr>\n",
       "      <th>15628</th>\n",
       "      <td>0.493</td>\n",
       "      <td>0.509</td>\n",
       "      <td>2.0</td>\n",
       "      <td>-4.074</td>\n",
       "      <td>1.0</td>\n",
       "      <td>0.0291</td>\n",
       "      <td>0.792</td>\n",
       "      <td>0.002780</td>\n",
       "      <td>0.0624</td>\n",
       "      <td>0.408</td>\n",
       "      <td>94.751</td>\n",
       "      <td>audio_features</td>\n",
       "      <td>1Hrc1sOnUjhnCNWJDLogXv</td>\n",
       "      <td>spotify:track:1Hrc1sOnUjhnCNWJDLogXv</td>\n",
       "      <td>https://api.spotify.com/v1/tracks/1Hrc1sOnUjhn...</td>\n",
       "      <td>https://api.spotify.com/v1/audio-analysis/1Hrc...</td>\n",
       "      <td>350040.0</td>\n",
       "      <td>3.0</td>\n",
       "    </tr>\n",
       "  </tbody>\n",
       "</table>\n",
       "</div>"
      ],
      "text/plain": [
       "       danceability  energy   key  loudness  mode  speechiness  acousticness  \\\n",
       "15624         0.695   0.482  11.0   -13.238   0.0       0.0390         0.861   \n",
       "15625         0.740   0.804   9.0    -7.450   1.0       0.0471         0.607   \n",
       "15626         0.606   0.651   3.0    -5.202   0.0       0.0749         0.472   \n",
       "15627         0.700   0.684  11.0   -10.688   0.0       0.0325         0.801   \n",
       "15628         0.493   0.509   2.0    -4.074   1.0       0.0291         0.792   \n",
       "\n",
       "       instrumentalness  liveness  valence    tempo            type  \\\n",
       "15624          0.896000    0.1030    0.670   92.980  audio_features   \n",
       "15625          0.010300    0.0888    0.535  114.047  audio_features   \n",
       "15626          0.000019    0.1060    0.696  113.418  audio_features   \n",
       "15627          0.877000    0.0916    0.800   92.994  audio_features   \n",
       "15628          0.002780    0.0624    0.408   94.751  audio_features   \n",
       "\n",
       "                           id                                   uri  \\\n",
       "15624  2SbLBxUtlSzz8nIYFQstwq  spotify:track:2SbLBxUtlSzz8nIYFQstwq   \n",
       "15625  6ExQLKsX71y57iO7iA8Ggd  spotify:track:6ExQLKsX71y57iO7iA8Ggd   \n",
       "15626  7A1prltPZsLqZ1iTROIkhz  spotify:track:7A1prltPZsLqZ1iTROIkhz   \n",
       "15627  0aiqrNJkcz1xDGUD8HLrRz  spotify:track:0aiqrNJkcz1xDGUD8HLrRz   \n",
       "15628  1Hrc1sOnUjhnCNWJDLogXv  spotify:track:1Hrc1sOnUjhnCNWJDLogXv   \n",
       "\n",
       "                                              track_href  \\\n",
       "15624  https://api.spotify.com/v1/tracks/2SbLBxUtlSzz...   \n",
       "15625  https://api.spotify.com/v1/tracks/6ExQLKsX71y5...   \n",
       "15626  https://api.spotify.com/v1/tracks/7A1prltPZsLq...   \n",
       "15627  https://api.spotify.com/v1/tracks/0aiqrNJkcz1x...   \n",
       "15628  https://api.spotify.com/v1/tracks/1Hrc1sOnUjhn...   \n",
       "\n",
       "                                            analysis_url  duration_ms  \\\n",
       "15624  https://api.spotify.com/v1/audio-analysis/2SbL...     344320.0   \n",
       "15625  https://api.spotify.com/v1/audio-analysis/6ExQ...     264893.0   \n",
       "15626  https://api.spotify.com/v1/audio-analysis/7A1p...     181200.0   \n",
       "15627  https://api.spotify.com/v1/audio-analysis/0aiq...     274133.0   \n",
       "15628  https://api.spotify.com/v1/audio-analysis/1Hrc...     350040.0   \n",
       "\n",
       "       time_signature  \n",
       "15624             4.0  \n",
       "15625             4.0  \n",
       "15626             4.0  \n",
       "15627             4.0  \n",
       "15628             3.0  "
      ]
     },
     "execution_count": 39,
     "metadata": {},
     "output_type": "execute_result"
    }
   ],
   "source": [
    "audio_features_df = json_normalize(audio_features_list)\n",
    "audio_features_df.tail()"
   ]
  },
  {
   "cell_type": "code",
   "execution_count": 38,
   "metadata": {},
   "outputs": [
    {
     "data": {
      "text/plain": [
       "(15629, 18)"
      ]
     },
     "execution_count": 38,
     "metadata": {},
     "output_type": "execute_result"
    }
   ],
   "source": [
    "audio_features_df.shape"
   ]
  },
  {
   "cell_type": "markdown",
   "metadata": {},
   "source": [
    "> merge in the merged_df to have it all in one"
   ]
  },
  {
   "cell_type": "code",
   "execution_count": 42,
   "metadata": {},
   "outputs": [],
   "source": [
    "# Drop duplicates in audio_df based on the 'id' column\n",
    "audio_features_df.drop_duplicates(subset=['id'], inplace=True)\n",
    "\n",
    "# Drop duplicates in audio_features_df based on the 'song_id' column\n",
    "audio_df.drop_duplicates(subset=['song_id'], inplace=True)"
   ]
  },
  {
   "cell_type": "code",
   "execution_count": 46,
   "metadata": {},
   "outputs": [
    {
     "data": {
      "text/html": [
       "<div>\n",
       "<style scoped>\n",
       "    .dataframe tbody tr th:only-of-type {\n",
       "        vertical-align: middle;\n",
       "    }\n",
       "\n",
       "    .dataframe tbody tr th {\n",
       "        vertical-align: top;\n",
       "    }\n",
       "\n",
       "    .dataframe thead th {\n",
       "        text-align: right;\n",
       "    }\n",
       "</style>\n",
       "<table border=\"1\" class=\"dataframe\">\n",
       "  <thead>\n",
       "    <tr style=\"text-align: right;\">\n",
       "      <th></th>\n",
       "      <th>category_id</th>\n",
       "      <th>category_name</th>\n",
       "      <th>playlist_id</th>\n",
       "      <th>playlist_name</th>\n",
       "      <th>song_id</th>\n",
       "      <th>song_artist</th>\n",
       "      <th>song_title</th>\n",
       "    </tr>\n",
       "  </thead>\n",
       "  <tbody>\n",
       "    <tr>\n",
       "      <th>0</th>\n",
       "      <td>0JQ5DAqbMKFQ00XGBls6ym</td>\n",
       "      <td>Hip-Hop</td>\n",
       "      <td>37i9dQZF1DX36edUJpD76c</td>\n",
       "      <td>Modus Mio</td>\n",
       "      <td>6df3If2RzcZ0CP79sVEuSe</td>\n",
       "      <td>Olexesh, Bonez MC</td>\n",
       "      <td>Cabrio</td>\n",
       "    </tr>\n",
       "    <tr>\n",
       "      <th>1</th>\n",
       "      <td>0JQ5DAqbMKFQ00XGBls6ym</td>\n",
       "      <td>Hip-Hop</td>\n",
       "      <td>37i9dQZF1DX36edUJpD76c</td>\n",
       "      <td>Modus Mio</td>\n",
       "      <td>3pPMgoouYtezLiBTEeL9be</td>\n",
       "      <td>FOURTY, Bausa</td>\n",
       "      <td>VEMPA</td>\n",
       "    </tr>\n",
       "    <tr>\n",
       "      <th>2</th>\n",
       "      <td>0JQ5DAqbMKFQ00XGBls6ym</td>\n",
       "      <td>Hip-Hop</td>\n",
       "      <td>37i9dQZF1DX36edUJpD76c</td>\n",
       "      <td>Modus Mio</td>\n",
       "      <td>6aCAQmJMBHve3Tfelte1HR</td>\n",
       "      <td>Dardan, Azet</td>\n",
       "      <td>Pa Mu</td>\n",
       "    </tr>\n",
       "    <tr>\n",
       "      <th>3</th>\n",
       "      <td>0JQ5DAqbMKFQ00XGBls6ym</td>\n",
       "      <td>Hip-Hop</td>\n",
       "      <td>37i9dQZF1DX36edUJpD76c</td>\n",
       "      <td>Modus Mio</td>\n",
       "      <td>16f4ZN6XOfrIO8fJkm28HM</td>\n",
       "      <td>AYLIVA, Apache 207</td>\n",
       "      <td>Wunder</td>\n",
       "    </tr>\n",
       "    <tr>\n",
       "      <th>4</th>\n",
       "      <td>0JQ5DAqbMKFQ00XGBls6ym</td>\n",
       "      <td>Hip-Hop</td>\n",
       "      <td>37i9dQZF1DX36edUJpD76c</td>\n",
       "      <td>Modus Mio</td>\n",
       "      <td>5g6kQitL4OSo9tWkWDGkNT</td>\n",
       "      <td>Celo &amp; Abdi, Summer Cem, Nimo</td>\n",
       "      <td>So So Def (feat. Summer Cem &amp; Nimo)</td>\n",
       "    </tr>\n",
       "    <tr>\n",
       "      <th>...</th>\n",
       "      <td>...</td>\n",
       "      <td>...</td>\n",
       "      <td>...</td>\n",
       "      <td>...</td>\n",
       "      <td>...</td>\n",
       "      <td>...</td>\n",
       "      <td>...</td>\n",
       "    </tr>\n",
       "    <tr>\n",
       "      <th>15624</th>\n",
       "      <td>0JQ5DAqbMKFRY5ok2pxXJ0</td>\n",
       "      <td>Cooking &amp; Dining</td>\n",
       "      <td>37i9dQZF1DX5Vpt0fhumU1</td>\n",
       "      <td>Spanish Tapas Bar</td>\n",
       "      <td>2SbLBxUtlSzz8nIYFQstwq</td>\n",
       "      <td>Govi</td>\n",
       "      <td>Samba Delight</td>\n",
       "    </tr>\n",
       "    <tr>\n",
       "      <th>15625</th>\n",
       "      <td>0JQ5DAqbMKFRY5ok2pxXJ0</td>\n",
       "      <td>Cooking &amp; Dining</td>\n",
       "      <td>37i9dQZF1DX5Vpt0fhumU1</td>\n",
       "      <td>Spanish Tapas Bar</td>\n",
       "      <td>6ExQLKsX71y57iO7iA8Ggd</td>\n",
       "      <td>Johannes Linstead</td>\n",
       "      <td>Andalucia</td>\n",
       "    </tr>\n",
       "    <tr>\n",
       "      <th>15626</th>\n",
       "      <td>0JQ5DAqbMKFRY5ok2pxXJ0</td>\n",
       "      <td>Cooking &amp; Dining</td>\n",
       "      <td>37i9dQZF1DX5Vpt0fhumU1</td>\n",
       "      <td>Spanish Tapas Bar</td>\n",
       "      <td>7A1prltPZsLqZ1iTROIkhz</td>\n",
       "      <td>Traditional, Alhama, Los</td>\n",
       "      <td>El Lerele</td>\n",
       "    </tr>\n",
       "    <tr>\n",
       "      <th>15627</th>\n",
       "      <td>0JQ5DAqbMKFRY5ok2pxXJ0</td>\n",
       "      <td>Cooking &amp; Dining</td>\n",
       "      <td>37i9dQZF1DX5Vpt0fhumU1</td>\n",
       "      <td>Spanish Tapas Bar</td>\n",
       "      <td>0aiqrNJkcz1xDGUD8HLrRz</td>\n",
       "      <td>Govi</td>\n",
       "      <td>Bumblebeat</td>\n",
       "    </tr>\n",
       "    <tr>\n",
       "      <th>15628</th>\n",
       "      <td>0JQ5DAqbMKFRY5ok2pxXJ0</td>\n",
       "      <td>Cooking &amp; Dining</td>\n",
       "      <td>37i9dQZF1DX5Vpt0fhumU1</td>\n",
       "      <td>Spanish Tapas Bar</td>\n",
       "      <td>1Hrc1sOnUjhnCNWJDLogXv</td>\n",
       "      <td>Mari Nieto, Juan Antonio Torres, Viguela</td>\n",
       "      <td>En la Mancha</td>\n",
       "    </tr>\n",
       "  </tbody>\n",
       "</table>\n",
       "<p>12100 rows × 7 columns</p>\n",
       "</div>"
      ],
      "text/plain": [
       "                  category_id     category_name             playlist_id  \\\n",
       "0      0JQ5DAqbMKFQ00XGBls6ym           Hip-Hop  37i9dQZF1DX36edUJpD76c   \n",
       "1      0JQ5DAqbMKFQ00XGBls6ym           Hip-Hop  37i9dQZF1DX36edUJpD76c   \n",
       "2      0JQ5DAqbMKFQ00XGBls6ym           Hip-Hop  37i9dQZF1DX36edUJpD76c   \n",
       "3      0JQ5DAqbMKFQ00XGBls6ym           Hip-Hop  37i9dQZF1DX36edUJpD76c   \n",
       "4      0JQ5DAqbMKFQ00XGBls6ym           Hip-Hop  37i9dQZF1DX36edUJpD76c   \n",
       "...                       ...               ...                     ...   \n",
       "15624  0JQ5DAqbMKFRY5ok2pxXJ0  Cooking & Dining  37i9dQZF1DX5Vpt0fhumU1   \n",
       "15625  0JQ5DAqbMKFRY5ok2pxXJ0  Cooking & Dining  37i9dQZF1DX5Vpt0fhumU1   \n",
       "15626  0JQ5DAqbMKFRY5ok2pxXJ0  Cooking & Dining  37i9dQZF1DX5Vpt0fhumU1   \n",
       "15627  0JQ5DAqbMKFRY5ok2pxXJ0  Cooking & Dining  37i9dQZF1DX5Vpt0fhumU1   \n",
       "15628  0JQ5DAqbMKFRY5ok2pxXJ0  Cooking & Dining  37i9dQZF1DX5Vpt0fhumU1   \n",
       "\n",
       "           playlist_name                 song_id  \\\n",
       "0              Modus Mio  6df3If2RzcZ0CP79sVEuSe   \n",
       "1              Modus Mio  3pPMgoouYtezLiBTEeL9be   \n",
       "2              Modus Mio  6aCAQmJMBHve3Tfelte1HR   \n",
       "3              Modus Mio  16f4ZN6XOfrIO8fJkm28HM   \n",
       "4              Modus Mio  5g6kQitL4OSo9tWkWDGkNT   \n",
       "...                  ...                     ...   \n",
       "15624  Spanish Tapas Bar  2SbLBxUtlSzz8nIYFQstwq   \n",
       "15625  Spanish Tapas Bar  6ExQLKsX71y57iO7iA8Ggd   \n",
       "15626  Spanish Tapas Bar  7A1prltPZsLqZ1iTROIkhz   \n",
       "15627  Spanish Tapas Bar  0aiqrNJkcz1xDGUD8HLrRz   \n",
       "15628  Spanish Tapas Bar  1Hrc1sOnUjhnCNWJDLogXv   \n",
       "\n",
       "                                    song_artist  \\\n",
       "0                             Olexesh, Bonez MC   \n",
       "1                                 FOURTY, Bausa   \n",
       "2                                  Dardan, Azet   \n",
       "3                            AYLIVA, Apache 207   \n",
       "4                 Celo & Abdi, Summer Cem, Nimo   \n",
       "...                                         ...   \n",
       "15624                                      Govi   \n",
       "15625                         Johannes Linstead   \n",
       "15626                  Traditional, Alhama, Los   \n",
       "15627                                      Govi   \n",
       "15628  Mari Nieto, Juan Antonio Torres, Viguela   \n",
       "\n",
       "                                song_title  \n",
       "0                                   Cabrio  \n",
       "1                                    VEMPA  \n",
       "2                                    Pa Mu  \n",
       "3                                   Wunder  \n",
       "4      So So Def (feat. Summer Cem & Nimo)  \n",
       "...                                    ...  \n",
       "15624                        Samba Delight  \n",
       "15625                            Andalucia  \n",
       "15626                            El Lerele  \n",
       "15627                           Bumblebeat  \n",
       "15628                         En la Mancha  \n",
       "\n",
       "[12100 rows x 7 columns]"
      ]
     },
     "execution_count": 46,
     "metadata": {},
     "output_type": "execute_result"
    }
   ],
   "source": [
    "audio_features_df.shape\n",
    "audio_df"
   ]
  },
  {
   "cell_type": "code",
   "execution_count": 52,
   "metadata": {},
   "outputs": [],
   "source": [
    "merged_df = pd.merge(audio_df, audio_features_df, left_on='song_id', right_on='id', how='left')\n",
    "merged_df.dropna(inplace=True)"
   ]
  },
  {
   "cell_type": "code",
   "execution_count": 55,
   "metadata": {},
   "outputs": [
    {
     "data": {
      "text/plain": [
       "0"
      ]
     },
     "execution_count": 55,
     "metadata": {},
     "output_type": "execute_result"
    }
   ],
   "source": [
    "merged_df.isna().sum().sum()"
   ]
  },
  {
   "cell_type": "markdown",
   "metadata": {},
   "source": [
    "> save to csv, convert the list of tuples to a DataFrame"
   ]
  },
  {
   "cell_type": "code",
   "execution_count": 56,
   "metadata": {},
   "outputs": [],
   "source": [
    "merged_df.to_csv('./cache/5_Song_Audio_Features.csv', index=False)"
   ]
  }
 ],
 "metadata": {
  "kernelspec": {
   "display_name": "base",
   "language": "python",
   "name": "python3"
  },
  "language_info": {
   "codemirror_mode": {
    "name": "ipython",
    "version": 3
   },
   "file_extension": ".py",
   "mimetype": "text/x-python",
   "name": "python",
   "nbconvert_exporter": "python",
   "pygments_lexer": "ipython3",
   "version": "3.11.7"
  }
 },
 "nbformat": 4,
 "nbformat_minor": 2
}
